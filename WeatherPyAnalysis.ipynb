{
 "cells": [
  {
   "cell_type": "code",
   "execution_count": 1,
   "metadata": {},
   "outputs": [],
   "source": [
    "# Dependencies\n",
    "import pandas as pd\n",
    "import requests as req\n",
    "from pprint import pprint\n",
    "import os, json, csv, time, random \n",
    "from config import api_key\n",
    "from citipy import citipy\n"
   ]
  },
  {
   "cell_type": "code",
   "execution_count": 2,
   "metadata": {},
   "outputs": [],
   "source": [
    "# Assign the Cities' file to a variable \n",
    "cities_file = os.path.join(\".\", \"Resources\", \"cities.csv\")"
   ]
  },
  {
   "cell_type": "markdown",
   "metadata": {},
   "source": [
    "### Extract a separated list of cities for analysis"
   ]
  },
  {
   "cell_type": "code",
   "execution_count": 6,
   "metadata": {},
   "outputs": [
    {
     "name": "stdout",
     "output_type": "stream",
     "text": [
      "Total of distinct cities: 599\n"
     ]
    }
   ],
   "source": [
    "# Create lists with the complete latitudes and longitudes to better analysis accuracy. \n",
    "lat = [y for y in range (-90, 95, 5)]\n",
    "lng = [x for x in range (-180, 190, 10)]\n",
    "\n",
    "# Store the cities in a collection/set. This way we be sure we won't have any duplication.\n",
    "collection = set()\n",
    "# Line terminator to append to each city\n",
    "lineterminator = '\\r\\n'\n",
    "# Looping combining Latitudes and Longitudes to get cities \n",
    "for y in lat:\n",
    "    for x in lng:\n",
    "        city = citipy.nearest_city(y,x)\n",
    "        collection.add(f\"{city.city_name},{city.country_code}{lineterminator}\")\n",
    "#         print(f\"City: {city.city_name}, Country:{city.country_code}, coord: {y},{x}\")\n",
    "\n",
    "print(f\"Total of distinct cities: {len(collection)}\")"
   ]
  },
  {
   "cell_type": "code",
   "execution_count": 9,
   "metadata": {},
   "outputs": [],
   "source": [
    "# Save the selected cities in a csv file.\n",
    "with open(cities_file, 'w') as writeFile:\n",
    "    # Write the header\n",
    "    writeFile.write(f\"city,country{lineterminator}\")\n",
    "    # Write the cities\n",
    "    writeFile.writelines(collection)\n",
    "        "
   ]
  },
  {
   "cell_type": "code",
   "execution_count": 23,
   "metadata": {},
   "outputs": [
    {
     "data": {
      "text/html": [
       "<div>\n",
       "<style scoped>\n",
       "    .dataframe tbody tr th:only-of-type {\n",
       "        vertical-align: middle;\n",
       "    }\n",
       "\n",
       "    .dataframe tbody tr th {\n",
       "        vertical-align: top;\n",
       "    }\n",
       "\n",
       "    .dataframe thead th {\n",
       "        text-align: right;\n",
       "    }\n",
       "</style>\n",
       "<table border=\"1\" class=\"dataframe\">\n",
       "  <thead>\n",
       "    <tr style=\"text-align: right;\">\n",
       "      <th></th>\n",
       "      <th>city</th>\n",
       "      <th>country</th>\n",
       "    </tr>\n",
       "  </thead>\n",
       "  <tbody>\n",
       "    <tr>\n",
       "      <th>0</th>\n",
       "      <td>zhigansk</td>\n",
       "      <td>ru</td>\n",
       "    </tr>\n",
       "    <tr>\n",
       "      <th>1</th>\n",
       "      <td>alotau</td>\n",
       "      <td>pg</td>\n",
       "    </tr>\n",
       "    <tr>\n",
       "      <th>2</th>\n",
       "      <td>namtsy</td>\n",
       "      <td>ru</td>\n",
       "    </tr>\n",
       "    <tr>\n",
       "      <th>3</th>\n",
       "      <td>narsaq</td>\n",
       "      <td>gl</td>\n",
       "    </tr>\n",
       "    <tr>\n",
       "      <th>4</th>\n",
       "      <td>bazarnyye mataki</td>\n",
       "      <td>ru</td>\n",
       "    </tr>\n",
       "  </tbody>\n",
       "</table>\n",
       "</div>"
      ],
      "text/plain": [
       "               city country\n",
       "0          zhigansk      ru\n",
       "1            alotau      pg\n",
       "2            namtsy      ru\n",
       "3            narsaq      gl\n",
       "4  bazarnyye mataki      ru"
      ]
     },
     "execution_count": 23,
     "metadata": {},
     "output_type": "execute_result"
    }
   ],
   "source": [
    "# Read the cities file\n",
    "cities = pd.read_csv(cities_file, sep=',') # columns=[\"city\",\"country\"], \n",
    "# Get the selected cities as a DataFrame\n",
    "df_cities = pd.DataFrame(cities)\n",
    "df_cities.head()\n",
    "# print(data.describe())\n",
    "# for city in data:\n",
    "#     print(city[\"country\"])"
   ]
  },
  {
   "cell_type": "code",
   "execution_count": null,
   "metadata": {},
   "outputs": [],
   "source": [
    "# Save config information.\n",
    "url = \"http://api.openweathermap.org/data/2.5/weather?\"\n",
    "# Get the temperature in fahrenheit\n",
    "units = \"imperial\"\n",
    "\n"
   ]
  },
  {
   "cell_type": "code",
   "execution_count": null,
   "metadata": {},
   "outputs": [],
   "source": [
    "\n",
    "# Emply list for articles\n",
    "city_list = []\n",
    "# loop through pages 0-2\n",
    "count = 0\n",
    "for city in selection:\n",
    "\n",
    "    if count == 5:\n",
    "        break\n",
    "    # Add a one second interval between queries to stay within API query limits\n",
    "    #####################################################\n",
    "    time.sleep(1) #####################################################\n",
    "    #####################################################\n",
    "    count += 1\n",
    "\n",
    "    \n",
    "    \n",
    "    try:\n",
    "\n",
    "        # Build query URL and request\n",
    "        city_country = city['city']['name'] + \",\" + city['city']['country']\n",
    "        query_url = f\"{url}APPID={api_key}&q={city_country}&units={units}\"\n",
    "        print(query_url)\n",
    "        temp = req.get(query_url).json()\n",
    "\n",
    "        # Get each field separated to ensure no error for current city    \n",
    "        name = city['city']['name']\n",
    "        cloudiness = temp['clouds']['all']\n",
    "        country = city[\"city\"][\"country\"]\n",
    "        date = temp['dt'] \n",
    "        humidity = temp['main']['humidity']\n",
    "        lat = temp['coord'][\"lat\"]\n",
    "        lng = temp['coord'][\"lon\"]\n",
    "        max_temp = temp['main']['temp_max']\n",
    "        wind_speed = temp['wind']['speed']\n",
    "\n",
    "        name = city['city']['name']\n",
    "        cloudiness = temp['clouds']['all']\n",
    "        country = city[\"city\"][\"country\"]\n",
    "        date = temp['dt'] \n",
    "        humidity = temp['main']['humidity']\n",
    "        lat = temp['coord'][\"lat\"]\n",
    "        lng = temp['coord'][\"lon\"]\n",
    "        max_temp = temp['main']['temp_max']\n",
    "        wind_speed = temp['wind']['speed']\n",
    "        \n",
    "        \n",
    "        \n",
    "        pprint(temp)\n",
    "#     #   print(city[\"city\"][\"name\"])\n",
    "#     #   print(city[\"city\"][\"country\"])\n",
    "\n",
    "#         print(temp['clouds'])\n",
    "#         print(\"Before: \" + str(city[\"city\"][\"coord\"]['lon']))\n",
    "#         print(\"Before: \" + str(city[\"city\"][\"coord\"]['lat']))\n",
    "#         print(\"Now: \" + str(temp['coord'][\"lon\"]))\n",
    "#         print(\"Now: \" + str(temp['coord'][\"lat\"]))\n",
    "#         print(temp['main']['humidity'])\n",
    "#         print(temp['main']['temp'])\n",
    "#         print(temp['main']['temp_max'])\n",
    "#         print(temp['main']['temp_min'])\n",
    "#         print(temp['wind']['speed'])\n",
    "#         print(\"#######################\")\n",
    "\n",
    "\n",
    "        \n",
    "    except (KeyError, IndexError):    \n",
    "        print(\"Missing field/result... skipping.\")\n",
    "        \n",
    "    \n",
    "    \n",
    "\n"
   ]
  },
  {
   "cell_type": "code",
   "execution_count": null,
   "metadata": {},
   "outputs": [],
   "source": []
  },
  {
   "cell_type": "code",
   "execution_count": null,
   "metadata": {},
   "outputs": [],
   "source": [
    "\n"
   ]
  },
  {
   "cell_type": "code",
   "execution_count": null,
   "metadata": {},
   "outputs": [],
   "source": [
    "from config import api_key\n",
    "# Build query URL\n",
    "query_url = url + \"api-key=\" + api_key + \"&q=\" + query\n",
    "\n",
    "# Fashion way to set the final url\n",
    "query_url = f\"{url}api-key={api_key}&q={query}&begin_date={begin_date}&end_date={end_date}\""
   ]
  },
  {
   "cell_type": "code",
   "execution_count": null,
   "metadata": {},
   "outputs": [],
   "source": [
    "# Perform a get request for this character\n",
    "response = requests.get(url)\n",
    "print(response.text)"
   ]
  },
  {
   "cell_type": "code",
   "execution_count": null,
   "metadata": {},
   "outputs": [],
   "source": [
    "# Storing the JSON response within a variable\n",
    "data = response.json()\n",
    "print(json.dumps(data, indent=4, sort_keys=True))"
   ]
  },
  {
   "cell_type": "code",
   "execution_count": null,
   "metadata": {},
   "outputs": [],
   "source": [
    "# Looping requests examples\n",
    "\n",
    "\n",
    "# Emply list for articles\n",
    "articles_list = []\n",
    "\n",
    "# loop through pages 0-2\n",
    "for page in range(0, 3):\n",
    "    query_url = f\"{url}api-key={api_key}&q={query}&begin_date={begin_date}&end_date={end_date}\"\n",
    "    # create query with page number\n",
    "    query_url = f\"{query_url}&page={str(page)}\"\n",
    "    articles = requests.get(query_url).json()\n",
    "    \n",
    "    # Add a one second interval between queries to stay within API query limits\n",
    "    #####################################################\n",
    "    time.sleep(1) #####################################################\n",
    "    #####################################################\n",
    "    \n",
    "    # loop through the response and append each article to the list\n",
    "    for article in articles[\"response\"][\"docs\"]:\n",
    "        articles_list.append(article)\n",
    "\n",
    "\n",
    "films = []\n",
    "\n",
    "for film in data['films']:\n",
    "    cur_film = requests.get(film).json()\n",
    "    film_title = cur_film[\"title\"]\n",
    "    films.append(film_title)\n",
    "    \n",
    "print(f\"{character_name} was in:\")\n",
    "print(films)"
   ]
  },
  {
   "cell_type": "code",
   "execution_count": null,
   "metadata": {},
   "outputs": [],
   "source": [
    "# Creating a list ramdomically \n",
    "indices = random.sample(list(range(1, 100)), 10)\n",
    "indices\n",
    "\n",
    "# Do not forget use list comprehension.\n",
    "articles_list = [article for article in articles[\"response\"][\"docs\"]]\n",
    "pprint(articles_list)"
   ]
  }
 ],
 "metadata": {
  "kernelspec": {
   "display_name": "Python 3",
   "language": "python",
   "name": "python3"
  },
  "language_info": {
   "codemirror_mode": {
    "name": "ipython",
    "version": 3
   },
   "file_extension": ".py",
   "mimetype": "text/x-python",
   "name": "python",
   "nbconvert_exporter": "python",
   "pygments_lexer": "ipython3",
   "version": "3.6.8"
  }
 },
 "nbformat": 4,
 "nbformat_minor": 2
}
