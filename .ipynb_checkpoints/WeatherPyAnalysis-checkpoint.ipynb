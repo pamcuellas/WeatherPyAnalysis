{
 "cells": [
  {
   "cell_type": "code",
   "execution_count": 1,
   "metadata": {},
   "outputs": [],
   "source": [
    "# Dependencies\n",
    "import matplotlib.pyplot as plt\n",
    "import numpy as np\n",
    "import pandas as pd\n",
    "import requests as req\n",
    "from pprint import pprint\n",
    "import os, json, csv, time, random, datetime, time \n",
    "from config import api_key\n",
    "from citipy import citipy\n",
    "import openweathermapy as ow\n"
   ]
  },
  {
   "cell_type": "code",
   "execution_count": 2,
   "metadata": {},
   "outputs": [],
   "source": [
    "# Assign the Cities' file to a variable \n",
    "cities_file = os.path.join(\".\", \"Resources\", \"cities.csv\")"
   ]
  },
  {
   "cell_type": "markdown",
   "metadata": {},
   "source": [
    "### Create a list of cities for analysis"
   ]
  },
  {
   "cell_type": "code",
   "execution_count": 3,
   "metadata": {},
   "outputs": [
    {
     "name": "stdout",
     "output_type": "stream",
     "text": [
      "Total of distinct cities: 598\n"
     ]
    }
   ],
   "source": [
    "# Create lists with the complete latitudes and longitudes to better analysis accuracy. \n",
    "lat = [y for y in range (-88, 93, 5)]\n",
    "lng = [x for x in range (-178, 188, 10)]\n",
    "\n",
    "# Store the cities in a collection/set. This way we be sure we won't have any duplication.\n",
    "collection = set()\n",
    "# Line terminator to append to each city\n",
    "lineterminator = '\\r\\n'\n",
    "# Looping combining Latitudes and Longitudes to get cities \n",
    "for y in lat:\n",
    "    for x in lng:\n",
    "        # Get the nearest city of current latitude and longitude\n",
    "        rand_y = random.uniform( (y-2), (y+2) )\n",
    "        rand_x = random.uniform( (x-2), (x+2) )\n",
    "        city = citipy.nearest_city(y,x)\n",
    "        collection.add(f\"{city.city_name},{city.country_code}{lineterminator}\")\n",
    "#         print(f\"City: {city.city_name}, Country:{city.country_code}, coord: {y},{x}\")\n",
    "\n",
    "# Preview total of cities \n",
    "print(f\"Total of distinct cities: {len(collection)}\")"
   ]
  },
  {
   "cell_type": "code",
   "execution_count": 4,
   "metadata": {},
   "outputs": [],
   "source": [
    "# Save the selected cities in a csv file.\n",
    "with open(cities_file, 'w') as writeFile:\n",
    "    # Write the header\n",
    "    writeFile.write(f\"City,Country{lineterminator}\")\n",
    "    # Write the cities\n",
    "    writeFile.writelines(collection)\n",
    "        "
   ]
  },
  {
   "cell_type": "code",
   "execution_count": 5,
   "metadata": {},
   "outputs": [
    {
     "data": {
      "text/html": [
       "<div>\n",
       "<style scoped>\n",
       "    .dataframe tbody tr th:only-of-type {\n",
       "        vertical-align: middle;\n",
       "    }\n",
       "\n",
       "    .dataframe tbody tr th {\n",
       "        vertical-align: top;\n",
       "    }\n",
       "\n",
       "    .dataframe thead th {\n",
       "        text-align: right;\n",
       "    }\n",
       "</style>\n",
       "<table border=\"1\" class=\"dataframe\">\n",
       "  <thead>\n",
       "    <tr style=\"text-align: right;\">\n",
       "      <th></th>\n",
       "      <th>City</th>\n",
       "      <th>Country</th>\n",
       "    </tr>\n",
       "  </thead>\n",
       "  <tbody>\n",
       "    <tr>\n",
       "      <th>0</th>\n",
       "      <td>grand gaube</td>\n",
       "      <td>mu</td>\n",
       "    </tr>\n",
       "    <tr>\n",
       "      <th>1</th>\n",
       "      <td>aklavik</td>\n",
       "      <td>ca</td>\n",
       "    </tr>\n",
       "    <tr>\n",
       "      <th>2</th>\n",
       "      <td>hobart</td>\n",
       "      <td>au</td>\n",
       "    </tr>\n",
       "    <tr>\n",
       "      <th>3</th>\n",
       "      <td>port-gentil</td>\n",
       "      <td>ga</td>\n",
       "    </tr>\n",
       "    <tr>\n",
       "      <th>4</th>\n",
       "      <td>kazalinsk</td>\n",
       "      <td>kz</td>\n",
       "    </tr>\n",
       "  </tbody>\n",
       "</table>\n",
       "</div>"
      ],
      "text/plain": [
       "          City Country\n",
       "0  grand gaube      mu\n",
       "1      aklavik      ca\n",
       "2       hobart      au\n",
       "3  port-gentil      ga\n",
       "4    kazalinsk      kz"
      ]
     },
     "execution_count": 5,
     "metadata": {},
     "output_type": "execute_result"
    }
   ],
   "source": [
    "# Read the cities file\n",
    "cities = pd.read_csv(cities_file, sep=',') # columns=[\"city\",\"country\"], \n",
    "# Convert the selected cities to a DataFrame\n",
    "df_cities = pd.DataFrame(cities)\n",
    "# Preview the DataFrame\n",
    "df_cities.head()\n"
   ]
  },
  {
   "cell_type": "code",
   "execution_count": 6,
   "metadata": {},
   "outputs": [],
   "source": []
  },
  {
   "cell_type": "code",
   "execution_count": 17,
   "metadata": {},
   "outputs": [
    {
     "name": "stdout",
     "output_type": "stream",
     "text": [
      "0         grand gaube\n",
      "1             aklavik\n",
      "2              hobart\n",
      "3         port-gentil\n",
      "4           kazalinsk\n",
      "5                jalu\n",
      "6           geraldton\n",
      "7               bumba\n",
      "8          butaritari\n",
      "9            balykshi\n",
      "10              berga\n",
      "11              lodja\n",
      "12              floro\n",
      "13        new norfolk\n",
      "14               faya\n",
      "15         kingsville\n",
      "16       saint george\n",
      "17            lazarev\n",
      "18         buseresere\n",
      "19              lolua\n",
      "20           shizunai\n",
      "21       attawapiskat\n",
      "22         pospelikha\n",
      "23      san cristobal\n",
      "24         sumbawanga\n",
      "25         wulanhaote\n",
      "26        mys shmidta\n",
      "27              yirol\n",
      "28                sur\n",
      "29             laguna\n",
      "            ...      \n",
      "568           norfolk\n",
      "569             pisco\n",
      "570            cheney\n",
      "571             bitam\n",
      "572             medea\n",
      "573           amparai\n",
      "574            burgeo\n",
      "575    kulhudhuffushi\n",
      "576        oudtshoorn\n",
      "577      sungai udang\n",
      "578            jiexiu\n",
      "579             sucua\n",
      "580      san patricio\n",
      "581              jadu\n",
      "582           wanning\n",
      "583              auki\n",
      "584          kargasok\n",
      "585    chernyshevskiy\n",
      "586              lima\n",
      "587      puerto ayora\n",
      "588         saskylakh\n",
      "589          meulaboh\n",
      "590    port macquarie\n",
      "591      mitha tiwana\n",
      "592            pravda\n",
      "593         esmeralda\n",
      "594         hithadhoo\n",
      "595     palabuhanratu\n",
      "596        nikolskoye\n",
      "597            vanimo\n",
      "Name: City, Length: 598, dtype: object\n"
     ]
    }
   ],
   "source": [
    "# Create the new fields for city.\n",
    "df_cities[\"Cloudiness\"] = \"\"\n",
    "df_cities[\"Date\"] = \"\"\n",
    "df_cities[\"Humidity\"] = 0\n",
    "df_cities[\"Lat\"] = 0.0\n",
    "df_cities[\"Lng\"] = 0.0\n",
    "df_cities[\"Max Temp\"] = 0.0\n",
    "df_cities[\"Wind Speed\"] = 0.0\n",
    "\n",
    "# Set units to get the temperature in fahrenheit\n",
    "units = \"imperial\"\n",
    "\n",
    "# Set the default URL.\n",
    "url = f\"http://api.openweathermap.org/data/2.5/weather?APPID={api_key}&units={units}\""
   ]
  },
  {
   "cell_type": "code",
   "execution_count": null,
   "metadata": {},
   "outputs": [],
   "source": [
    "\n",
    "# Looping to fill new fields. \n",
    "count = 0 \n",
    "\n",
    "print(\"-----------------------------\")\n",
    "print(\"Beginning Data Retrieval\")\n",
    "print(\"-----------------------------\")       \n",
    "\n",
    "for index, row in df_cities.iterrows(): \n",
    "#     if count == 5:\n",
    "#         break\n",
    "    # Add a one second interval between queries to stay within API query limits\n",
    "    #####################################################\n",
    "    time.sleep(1) #####################################################\n",
    "    #####################################################\n",
    "    count += 1\n",
    "    # Build query URL and print log\n",
    "    city_country = f\"{row['City']},{row['Country']}\" \n",
    "    # Append the current city to the URL\n",
    "    query_url = f\"{url}&q={city_country}\"\n",
    "    print(f\"Processing Record {count} - ({city_country.replace(',','/')})\")\n",
    "    print(query_url)\n",
    "    \n",
    "    try:\n",
    "        # Run the request\n",
    "        temp = req.get(query_url).json()\n",
    "        # Fill fields\n",
    "        df_cities.loc[index, 'Cloudiness'] = temp['clouds']['all']\n",
    "        df_cities.loc[index, 'Date'] = datetime.datetime.fromtimestamp( int(temp['dt']) ).strftime('%Y-%m-%d %H:%M:%S')\n",
    "        df_cities.loc[index, 'Humidity'] = temp['main']['humidity']\n",
    "        df_cities.loc[index, 'Lat'] = temp['coord'][\"lat\"]\n",
    "        df_cities.loc[index, 'Lng'] = temp['coord'][\"lon\"]\n",
    "        df_cities.loc[index, 'Max Temp'] = temp['main']['temp_max']\n",
    "        df_cities.loc[index, 'Wind Speed'] = temp['wind']['speed']\n",
    "    except Exception as e:    \n",
    "        print(f\"We've got ther error message [{e}] when processing city={city_country} - {temp}.\")\n",
    "        # Lets remove the current city from DF.\n",
    "        df_cities.drop([index],inplace=True)\n",
    "\n",
    "    \n",
    "print(\"-----------------------------\")\n",
    "print(\"Data Retrieval Complete\")\n",
    "print(\"-----------------------------\")       \n",
    "        \n",
    "        \n",
    "# Remove any City missing data\n",
    "df_cities.dropna(how=\"any\", inplace=True)  \n",
    "# Reindex DF\n",
    "df_cities.reset_index(drop=True, inplace=True)   \n",
    "# Preview total cities\n",
    "print(f\"Total cities remaining: {len(df_cities)}\")\n"
   ]
  },
  {
   "cell_type": "code",
   "execution_count": null,
   "metadata": {},
   "outputs": [],
   "source": [
    "# Preview new fields filled\n",
    "df_cities.head()"
   ]
  },
  {
   "cell_type": "code",
   "execution_count": null,
   "metadata": {},
   "outputs": [],
   "source": [
    "df_cities.info()"
   ]
  },
  {
   "cell_type": "code",
   "execution_count": null,
   "metadata": {},
   "outputs": [],
   "source": [
    "# Set Latitude for x axis\n",
    "x_axis = df_cities[\"Lat\"].tolist()\n",
    "# Set Max Temperature for y axis\n",
    "y_axis = df_cities[\"Max Temp\"].tolist()\n",
    "\n",
    "# Set Line Trend\n",
    "# z = np.polyfit(x_axis, y_axis, 1)\n",
    "# p = np.poly1d(z)\n",
    "# plt.plot(x_axis,p(x_axis),\"g--\")\n",
    "\n",
    "plt.grid(True)\n",
    "\n",
    "plt.scatter(x_axis, y_axis, marker=\"o\",color=\"purple\")\n",
    "\n",
    "\n",
    "# Set x and y limits\n",
    "plt.xlim(-80, 100)\n",
    "# plt.ylim(-100, 150)\n",
    "\n",
    "# Set Title \n",
    "# Get the analysis date and format it\n",
    "analisys_date = df_cities.loc[0:0][\"Date\"][0]\n",
    "analisys_date = analisys_date[0:10]\n",
    "dt = datetime.datetime.strptime(analisys_date, '%Y-%m-%d')\n",
    "analisys_date = dt.strftime(\"%B %d, %Y\")\n",
    "plt.title(f\"City Latitude vs Max Temperature ({analisys_date})\")\n",
    "\n",
    "# Set labels\n",
    "plt.xlabel(\"Latitude\")\n",
    "plt.ylabel(\"Max Temperature (F)\")\n",
    "\n",
    "# Save the Figure\n",
    "# plt.savefig(\"tumor_response_to_treatment.png\")\n",
    "\n",
    "# Show the Figure\n",
    "plt.tight_layout()\n",
    "plt.show()\n",
    "\n",
    "\n",
    "\n",
    "\n"
   ]
  },
  {
   "cell_type": "code",
   "execution_count": null,
   "metadata": {},
   "outputs": [],
   "source": [
    "\n",
    "\n"
   ]
  },
  {
   "cell_type": "code",
   "execution_count": null,
   "metadata": {},
   "outputs": [],
   "source": []
  }
 ],
 "metadata": {
  "kernelspec": {
   "display_name": "Python 3",
   "language": "python",
   "name": "python3"
  },
  "language_info": {
   "codemirror_mode": {
    "name": "ipython",
    "version": 3
   },
   "file_extension": ".py",
   "mimetype": "text/x-python",
   "name": "python",
   "nbconvert_exporter": "python",
   "pygments_lexer": "ipython3",
   "version": "3.6.8"
  }
 },
 "nbformat": 4,
 "nbformat_minor": 2
}
