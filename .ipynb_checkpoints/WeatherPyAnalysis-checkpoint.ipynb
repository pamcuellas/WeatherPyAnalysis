{
 "cells": [
  {
   "cell_type": "code",
   "execution_count": 1,
   "metadata": {},
   "outputs": [],
   "source": [
    "# Dependencies\n",
    "import matplotlib.pyplot as plt\n",
    "import pandas as pd\n",
    "import requests as req\n",
    "import os, json, csv, time, random, datetime, time \n",
    "from config import api_key\n",
    "from citipy import citipy"
   ]
  },
  {
   "cell_type": "code",
   "execution_count": 2,
   "metadata": {},
   "outputs": [],
   "source": [
    "# Assign the Cities' file to a variable \n",
    "cities_file = os.path.join(\".\", \"Resources\", \"cities.csv\")"
   ]
  },
  {
   "cell_type": "markdown",
   "metadata": {},
   "source": [
    "### Create a list of cities utilizing citipy library"
   ]
  },
  {
   "cell_type": "code",
   "execution_count": 3,
   "metadata": {},
   "outputs": [
    {
     "name": "stdout",
     "output_type": "stream",
     "text": [
      "Total of distinct cities: 696\n"
     ]
    }
   ],
   "source": [
    "# Create lists with the complete latitudes and longitudes to better analysis accuracy. \n",
    "lat = [y for y in range (-88, 93, 4)]\n",
    "lng = [x for x in range (-178, 188, 10)]\n",
    "\n",
    "# Store the cities in a collection/set. This way we be sure we won't have any duplication.\n",
    "collection = set()\n",
    "# Line terminator to append to each city\n",
    "lineterminator = '\\r\\n'\n",
    "# Looping combining Latitudes and Longitudes to get cities \n",
    "for y in lat:\n",
    "    for x in lng:\n",
    "        # Get coordinates randomicaly from a small range. \n",
    "        rand_y = random.uniform( (y-2), (y+2) )\n",
    "        rand_x = random.uniform( (x-2), (x+2) )\n",
    "        # Get the nearest city of current coordinates\n",
    "        city = citipy.nearest_city(rand_y,rand_x)\n",
    "        collection.add(f\"{city.city_name},{city.country_code}{lineterminator}\")\n",
    "#         print(f\"City: {city.city_name}, Country:{city.country_code}, coord: {y},{x}\")\n",
    "\n",
    "# Preview total of cities \n",
    "print(f\"Total of distinct cities: {len(collection)}\")"
   ]
  },
  {
   "cell_type": "code",
   "execution_count": 4,
   "metadata": {},
   "outputs": [],
   "source": [
    "# Save the selected cities in a csv file.\n",
    "with open(cities_file, 'w') as writeFile:\n",
    "    # Write the header\n",
    "    writeFile.write(f\"City,Country{lineterminator}\")\n",
    "    # Write the cities\n",
    "    writeFile.writelines(collection)        "
   ]
  },
  {
   "cell_type": "code",
   "execution_count": 5,
   "metadata": {},
   "outputs": [
    {
     "data": {
      "text/html": [
       "<div>\n",
       "<style scoped>\n",
       "    .dataframe tbody tr th:only-of-type {\n",
       "        vertical-align: middle;\n",
       "    }\n",
       "\n",
       "    .dataframe tbody tr th {\n",
       "        vertical-align: top;\n",
       "    }\n",
       "\n",
       "    .dataframe thead th {\n",
       "        text-align: right;\n",
       "    }\n",
       "</style>\n",
       "<table border=\"1\" class=\"dataframe\">\n",
       "  <thead>\n",
       "    <tr style=\"text-align: right;\">\n",
       "      <th></th>\n",
       "      <th>City</th>\n",
       "      <th>Country</th>\n",
       "    </tr>\n",
       "  </thead>\n",
       "  <tbody>\n",
       "    <tr>\n",
       "      <th>0</th>\n",
       "      <td>vilhena</td>\n",
       "      <td>br</td>\n",
       "    </tr>\n",
       "    <tr>\n",
       "      <th>1</th>\n",
       "      <td>tabiauea</td>\n",
       "      <td>ki</td>\n",
       "    </tr>\n",
       "    <tr>\n",
       "      <th>2</th>\n",
       "      <td>juifang</td>\n",
       "      <td>tw</td>\n",
       "    </tr>\n",
       "    <tr>\n",
       "      <th>3</th>\n",
       "      <td>staryy nadym</td>\n",
       "      <td>ru</td>\n",
       "    </tr>\n",
       "    <tr>\n",
       "      <th>4</th>\n",
       "      <td>comodoro rivadavia</td>\n",
       "      <td>ar</td>\n",
       "    </tr>\n",
       "  </tbody>\n",
       "</table>\n",
       "</div>"
      ],
      "text/plain": [
       "                 City Country\n",
       "0             vilhena      br\n",
       "1            tabiauea      ki\n",
       "2             juifang      tw\n",
       "3        staryy nadym      ru\n",
       "4  comodoro rivadavia      ar"
      ]
     },
     "execution_count": 5,
     "metadata": {},
     "output_type": "execute_result"
    }
   ],
   "source": [
    "# Read the cities file\n",
    "cities = pd.read_csv(cities_file, sep=',')  \n",
    "# Convert the selected cities to a DataFrame\n",
    "df_cities = pd.DataFrame(cities)\n",
    "# Preview the DataFrame\n",
    "df_cities.head()"
   ]
  },
  {
   "cell_type": "code",
   "execution_count": 6,
   "metadata": {},
   "outputs": [],
   "source": [
    "# Create new fields for city.\n",
    "df_cities[\"Cloudiness\"] = None\n",
    "df_cities[\"Date\"] = None\n",
    "df_cities[\"Humidity\"] = 0\n",
    "df_cities[\"Lat\"] = 0.0\n",
    "df_cities[\"Lng\"] = 0.0\n",
    "df_cities[\"Max Temp\"] = 0.0\n",
    "df_cities[\"Wind Speed\"] = 0.0\n",
    "\n",
    "# Set units to get the temperature in fahrenheit\n",
    "units = \"imperial\"\n",
    "\n",
    "# Set the default URL.\n",
    "url = f\"http://api.openweathermap.org/data/2.5/weather?APPID={api_key}&units={units}\""
   ]
  },
  {
   "cell_type": "code",
   "execution_count": 7,
   "metadata": {},
   "outputs": [
    {
     "name": "stdout",
     "output_type": "stream",
     "text": [
      "-----------------------------\n",
      "Beginning Data Retrieval\n",
      "-----------------------------\n",
      "Processing Record 1 - (vilhena/br)\n",
      "http://api.openweathermap.org/data/2.5/weather?APPID=f5072ad53e338012bcc90c7b09683864&units=imperial&q=vilhena,br\n",
      "Processing Record 2 - (tabiauea/ki)\n",
      "http://api.openweathermap.org/data/2.5/weather?APPID=f5072ad53e338012bcc90c7b09683864&units=imperial&q=tabiauea,ki\n",
      "We've got an error when processing city=tabiauea,ki - {'cod': '404', 'message': 'city not found'}.\n",
      "Processing Record 3 - (juifang/tw)\n",
      "http://api.openweathermap.org/data/2.5/weather?APPID=f5072ad53e338012bcc90c7b09683864&units=imperial&q=juifang,tw\n",
      "We've got an error when processing city=juifang,tw - {'cod': '404', 'message': 'city not found'}.\n",
      "Processing Record 4 - (staryy nadym/ru)\n",
      "http://api.openweathermap.org/data/2.5/weather?APPID=f5072ad53e338012bcc90c7b09683864&units=imperial&q=staryy nadym,ru\n",
      "Processing Record 5 - (comodoro rivadavia/ar)\n",
      "http://api.openweathermap.org/data/2.5/weather?APPID=f5072ad53e338012bcc90c7b09683864&units=imperial&q=comodoro rivadavia,ar\n",
      "Processing Record 6 - (samalaeulu/ws)\n",
      "http://api.openweathermap.org/data/2.5/weather?APPID=f5072ad53e338012bcc90c7b09683864&units=imperial&q=samalaeulu,ws\n",
      "We've got an error when processing city=samalaeulu,ws - {'cod': '404', 'message': 'city not found'}.\n",
      "Processing Record 7 - (waipawa/nz)\n",
      "http://api.openweathermap.org/data/2.5/weather?APPID=f5072ad53e338012bcc90c7b09683864&units=imperial&q=waipawa,nz\n",
      "Processing Record 8 - (jumla/np)\n",
      "http://api.openweathermap.org/data/2.5/weather?APPID=f5072ad53e338012bcc90c7b09683864&units=imperial&q=jumla,np\n",
      "Processing Record 9 - (tibati/cm)\n",
      "http://api.openweathermap.org/data/2.5/weather?APPID=f5072ad53e338012bcc90c7b09683864&units=imperial&q=tibati,cm\n",
      "Processing Record 10 - (nong bua/th)\n",
      "http://api.openweathermap.org/data/2.5/weather?APPID=f5072ad53e338012bcc90c7b09683864&units=imperial&q=nong bua,th\n",
      "Processing Record 11 - (ruatoria/nz)\n",
      "http://api.openweathermap.org/data/2.5/weather?APPID=f5072ad53e338012bcc90c7b09683864&units=imperial&q=ruatoria,nz\n",
      "We've got an error when processing city=ruatoria,nz - {'cod': '404', 'message': 'city not found'}.\n",
      "Processing Record 12 - (qostanay/kz)\n",
      "http://api.openweathermap.org/data/2.5/weather?APPID=f5072ad53e338012bcc90c7b09683864&units=imperial&q=qostanay,kz\n",
      "Processing Record 13 - (thinadhoo/mv)\n",
      "http://api.openweathermap.org/data/2.5/weather?APPID=f5072ad53e338012bcc90c7b09683864&units=imperial&q=thinadhoo,mv\n",
      "Processing Record 14 - (epanomi/gr)\n",
      "http://api.openweathermap.org/data/2.5/weather?APPID=f5072ad53e338012bcc90c7b09683864&units=imperial&q=epanomi,gr\n",
      "Processing Record 15 - (mehamn/no)\n",
      "http://api.openweathermap.org/data/2.5/weather?APPID=f5072ad53e338012bcc90c7b09683864&units=imperial&q=mehamn,no\n",
      "Processing Record 16 - (portland/au)\n",
      "http://api.openweathermap.org/data/2.5/weather?APPID=f5072ad53e338012bcc90c7b09683864&units=imperial&q=portland,au\n",
      "Processing Record 17 - (kanker/in)\n",
      "http://api.openweathermap.org/data/2.5/weather?APPID=f5072ad53e338012bcc90c7b09683864&units=imperial&q=kanker,in\n",
      "Processing Record 18 - (buritis/br)\n",
      "http://api.openweathermap.org/data/2.5/weather?APPID=f5072ad53e338012bcc90c7b09683864&units=imperial&q=buritis,br\n",
      "Processing Record 19 - (rawson/ar)\n",
      "http://api.openweathermap.org/data/2.5/weather?APPID=f5072ad53e338012bcc90c7b09683864&units=imperial&q=rawson,ar\n",
      "Processing Record 20 - (nova olimpia/br)\n",
      "http://api.openweathermap.org/data/2.5/weather?APPID=f5072ad53e338012bcc90c7b09683864&units=imperial&q=nova olimpia,br\n",
      "-----------------------------\n",
      "Data Retrieval Complete\n",
      "-----------------------------\n",
      "Total cities remaining: 16\n"
     ]
    }
   ],
   "source": [
    "# Utilize Open Weather API to fill new fields. \n",
    "print(\"-----------------------------\")\n",
    "print(\"Beginning Data Retrieval\")\n",
    "print(\"-----------------------------\")       \n",
    "\n",
    "# Loop to execute requests for each city. \n",
    "count = 0 \n",
    "for index, row in df_cities.iterrows(): \n",
    "    # Uncomment the two lines below to process just 20 cities. It will take more than 10 minutes to process all cities. \n",
    "#     if count == 20:\n",
    "#         break\n",
    "    count += 1\n",
    "        \n",
    "    # Add one second interval between requests to be in compliance with  Open Weather \n",
    "    # API guideline (\"Free users can make 60 requests per minute\").\n",
    "    time.sleep(1) \n",
    "\n",
    "    # Build query URL for current city and print log.\n",
    "    # Regarding we have cities with same name in different countries, we are appending \n",
    "    # country code to request the right city.\n",
    "    city_country = f\"{row['City']},{row['Country']}\" \n",
    "    query_url = f\"{url}&q={city_country}\"\n",
    "    print(f\"Processing Record {count} - ({city_country.replace(',','/')})\")\n",
    "    print(query_url)\n",
    "    \n",
    "    try:\n",
    "        # Run the request\n",
    "        result = req.get(query_url).json()\n",
    "        # Fill fields\n",
    "        df_cities.loc[index, 'Cloudiness'] = result['clouds']['all']\n",
    "        df_cities.loc[index, 'Date'] = datetime.datetime.fromtimestamp( int(result['dt']) ).strftime('%Y-%m-%d %H:%M:%S')\n",
    "        df_cities.loc[index, 'Humidity'] = result['main']['humidity']\n",
    "        df_cities.loc[index, 'Lat'] = result['coord'][\"lat\"]\n",
    "        df_cities.loc[index, 'Lng'] = result['coord'][\"lon\"]\n",
    "        df_cities.loc[index, 'Max Temp'] = result['main']['temp_max']\n",
    "        df_cities.loc[index, 'Wind Speed'] = result['wind']['speed']\n",
    "    except:    \n",
    "        print(f\"We've got an error when processing city={city_country} - {result}.\")\n",
    "        # Remove the city with error from DF.\n",
    "        df_cities.drop([index],inplace=True)\n",
    "\n",
    "print(\"-----------------------------\")\n",
    "print(\"Data Retrieval Complete\")\n",
    "print(\"-----------------------------\")       \n",
    "        \n",
    "# Remove any City missing data\n",
    "df_cities.dropna(how=\"any\", inplace=True)  \n",
    "# Reindex DF\n",
    "df_cities.reset_index(drop=True, inplace=True)   \n",
    "# Preview total cities\n",
    "print(f\"Total cities remaining: {len(df_cities)}\")\n"
   ]
  },
  {
   "cell_type": "code",
   "execution_count": 8,
   "metadata": {},
   "outputs": [
    {
     "data": {
      "text/html": [
       "<div>\n",
       "<style scoped>\n",
       "    .dataframe tbody tr th:only-of-type {\n",
       "        vertical-align: middle;\n",
       "    }\n",
       "\n",
       "    .dataframe tbody tr th {\n",
       "        vertical-align: top;\n",
       "    }\n",
       "\n",
       "    .dataframe thead th {\n",
       "        text-align: right;\n",
       "    }\n",
       "</style>\n",
       "<table border=\"1\" class=\"dataframe\">\n",
       "  <thead>\n",
       "    <tr style=\"text-align: right;\">\n",
       "      <th></th>\n",
       "      <th>City</th>\n",
       "      <th>Country</th>\n",
       "      <th>Cloudiness</th>\n",
       "      <th>Date</th>\n",
       "      <th>Humidity</th>\n",
       "      <th>Lat</th>\n",
       "      <th>Lng</th>\n",
       "      <th>Max Temp</th>\n",
       "      <th>Wind Speed</th>\n",
       "    </tr>\n",
       "  </thead>\n",
       "  <tbody>\n",
       "    <tr>\n",
       "      <th>0</th>\n",
       "      <td>vilhena</td>\n",
       "      <td>br</td>\n",
       "      <td>0</td>\n",
       "      <td>2019-07-04 10:27:02</td>\n",
       "      <td>54</td>\n",
       "      <td>-12.74</td>\n",
       "      <td>-60.15</td>\n",
       "      <td>82.40</td>\n",
       "      <td>13.87</td>\n",
       "    </tr>\n",
       "    <tr>\n",
       "      <th>1</th>\n",
       "      <td>staryy nadym</td>\n",
       "      <td>ru</td>\n",
       "      <td>10</td>\n",
       "      <td>2019-07-04 10:27:05</td>\n",
       "      <td>44</td>\n",
       "      <td>65.61</td>\n",
       "      <td>72.68</td>\n",
       "      <td>85.62</td>\n",
       "      <td>8.23</td>\n",
       "    </tr>\n",
       "    <tr>\n",
       "      <th>2</th>\n",
       "      <td>comodoro rivadavia</td>\n",
       "      <td>ar</td>\n",
       "      <td>20</td>\n",
       "      <td>2019-07-04 10:27:06</td>\n",
       "      <td>55</td>\n",
       "      <td>-45.87</td>\n",
       "      <td>-67.48</td>\n",
       "      <td>33.80</td>\n",
       "      <td>3.36</td>\n",
       "    </tr>\n",
       "    <tr>\n",
       "      <th>3</th>\n",
       "      <td>waipawa</td>\n",
       "      <td>nz</td>\n",
       "      <td>100</td>\n",
       "      <td>2019-07-04 10:27:09</td>\n",
       "      <td>95</td>\n",
       "      <td>-39.94</td>\n",
       "      <td>176.59</td>\n",
       "      <td>43.00</td>\n",
       "      <td>7.78</td>\n",
       "    </tr>\n",
       "    <tr>\n",
       "      <th>4</th>\n",
       "      <td>jumla</td>\n",
       "      <td>np</td>\n",
       "      <td>100</td>\n",
       "      <td>2019-07-04 10:27:10</td>\n",
       "      <td>97</td>\n",
       "      <td>29.28</td>\n",
       "      <td>82.18</td>\n",
       "      <td>57.54</td>\n",
       "      <td>3.44</td>\n",
       "    </tr>\n",
       "  </tbody>\n",
       "</table>\n",
       "</div>"
      ],
      "text/plain": [
       "                 City Country Cloudiness                 Date  Humidity  \\\n",
       "0             vilhena      br          0  2019-07-04 10:27:02        54   \n",
       "1        staryy nadym      ru         10  2019-07-04 10:27:05        44   \n",
       "2  comodoro rivadavia      ar         20  2019-07-04 10:27:06        55   \n",
       "3             waipawa      nz        100  2019-07-04 10:27:09        95   \n",
       "4               jumla      np        100  2019-07-04 10:27:10        97   \n",
       "\n",
       "     Lat     Lng  Max Temp  Wind Speed  \n",
       "0 -12.74  -60.15     82.40       13.87  \n",
       "1  65.61   72.68     85.62        8.23  \n",
       "2 -45.87  -67.48     33.80        3.36  \n",
       "3 -39.94  176.59     43.00        7.78  \n",
       "4  29.28   82.18     57.54        3.44  "
      ]
     },
     "execution_count": 8,
     "metadata": {},
     "output_type": "execute_result"
    }
   ],
   "source": [
    "# Preview new fields filled\n",
    "df_cities.head()"
   ]
  },
  {
   "cell_type": "code",
   "execution_count": 9,
   "metadata": {},
   "outputs": [
    {
     "name": "stdout",
     "output_type": "stream",
     "text": [
      "<class 'pandas.core.frame.DataFrame'>\n",
      "RangeIndex: 16 entries, 0 to 15\n",
      "Data columns (total 9 columns):\n",
      "City          16 non-null object\n",
      "Country       16 non-null object\n",
      "Cloudiness    16 non-null object\n",
      "Date          16 non-null object\n",
      "Humidity      16 non-null int64\n",
      "Lat           16 non-null float64\n",
      "Lng           16 non-null float64\n",
      "Max Temp      16 non-null float64\n",
      "Wind Speed    16 non-null float64\n",
      "dtypes: float64(4), int64(1), object(4)\n",
      "memory usage: 1.2+ KB\n"
     ]
    }
   ],
   "source": [
    "df_cities.info()"
   ]
  },
  {
   "cell_type": "code",
   "execution_count": 10,
   "metadata": {},
   "outputs": [],
   "source": [
    "# Get the analysis date. It will be used on title graphs.\n",
    "analisys_date = df_cities.loc[0:0][\"Date\"][0]\n",
    "# Get just the date, cut hour, min, and sec out. \n",
    "analisys_date = analisys_date[0:10]\n",
    "# Format date and convert to String\n",
    "dt = datetime.datetime.strptime(analisys_date, '%Y-%m-%d')\n",
    "analisys_date = dt.strftime(\"%B %d, %Y\")"
   ]
  },
  {
   "cell_type": "code",
   "execution_count": 11,
   "metadata": {},
   "outputs": [],
   "source": [
    "# Set graphs stile  \n",
    "plt.style.use('fivethirtyeight')\n",
    "\n",
    "# Create a function to set graphs\n",
    "def set_graph(y_axis, y_lim, title, y_label, image_file_name):\n",
    "    # Start graph\n",
    "    fig, ax = plt.subplots(figsize=(9,6))\n",
    "    fig.set_facecolor('w')\n",
    "\n",
    "    # Set commom params for all graphs\n",
    "    x_axis = df_cities[\"Lat\"].tolist()    \n",
    "    x_lim = [-80, 100]\n",
    "    x_label = \"Latitude\"\n",
    "    \n",
    "    # Set x and y limits\n",
    "    ax.set_xlim(x_lim)\n",
    "    ax.set_ylim(y_lim)\n",
    "\n",
    "    # Set the title\n",
    "    ax.set_title(f\"{title} ({analisys_date})\", alpha=0.9, fontsize=15)\n",
    "\n",
    "    # Set labels\n",
    "    ax.set_xlabel(x_label, alpha=0.8, fontsize=14)\n",
    "    ax.set_ylabel(y_label, alpha=0.8, fontsize=14)\n",
    "\n",
    "    # Set stick\n",
    "    ax.tick_params(direction='out', length=0, width=2, grid_color='w', labelsize='small', grid_linewidth=1.2)\n",
    "    ax.scatter(x_axis, y_axis, marker=\"o\",color=\"blue\",edgecolors='black', s=40, alpha=0.8)\n",
    "    \n",
    "    # Save the graph image\n",
    "    plt.savefig(image_file_name)"
   ]
  },
  {
   "cell_type": "markdown",
   "metadata": {},
   "source": [
    "### Latitude vs Max Temperature Plot"
   ]
  },
  {
   "cell_type": "code",
   "execution_count": 12,
   "metadata": {},
   "outputs": [
    {
     "data": {
      "image/png": "[encoded data removed]",
      "text/plain": [
       "<Figure size 648x432 with 1 Axes>"
      ]
     },
     "metadata": {},
     "output_type": "display_data"
    }
   ],
   "source": [
    "# Set the graph\n",
    "set_graph(df_cities[\"Max Temp\"].tolist(),     # y_axis\n",
    "          [-100, 150],                        # ylim   \n",
    "          \"City Latitude vs. Max Temperature\",# Title\n",
    "          \"Max Temperature (F)\",              # yLabel\n",
    "          \"Latitude_vs_MaxTemperature.png\")   # image_file_name\n",
    "\n",
    "# Show the Figure\n",
    "plt.show()"
   ]
  },
  {
   "cell_type": "markdown",
   "metadata": {},
   "source": [
    "### Latitude vs. Humidity Plot"
   ]
  },
  {
   "cell_type": "code",
   "execution_count": 13,
   "metadata": {},
   "outputs": [
    {
     "data": {
      "image/png": "[encoded data removed]",
      "text/plain": [
       "<Figure size 648x432 with 1 Axes>"
      ]
     },
     "metadata": {},
     "output_type": "display_data"
    }
   ],
   "source": [
    "# Set graph\n",
    "set_graph(df_cities[\"Humidity\"].tolist(), # y_axis\n",
    "          [-20, 120],                     # ylim   \n",
    "          \"City Latitude vs. Humidity\",   # Title\n",
    "          \"Humidity (%)\",                 # yLabel\n",
    "          \"Latitude_vs_Humidity.png\")     # image_file_name\n",
    "\n",
    "# Show the Figure\n",
    "plt.show()"
   ]
  },
  {
   "cell_type": "markdown",
   "metadata": {},
   "source": [
    "### Latitude vs. Cloudiness Plot"
   ]
  },
  {
   "cell_type": "code",
   "execution_count": 14,
   "metadata": {},
   "outputs": [
    {
     "data": {
      "image/png": "[encoded data removed]",
      "text/plain": [
       "<Figure size 648x432 with 1 Axes>"
      ]
     },
     "metadata": {},
     "output_type": "display_data"
    }
   ],
   "source": [
    "# Set graph\n",
    "set_graph(df_cities[\"Cloudiness\"].tolist(),# y_axis\n",
    "          [-20, 120],                      # ylim   \n",
    "          \"City Latitude vs. Cloudiness\",  # Title\n",
    "          \"Cloudiness (%)\",                # yLabel\n",
    "          \"CityLatitude_vs_Cloudiness.png\")# image_file_name\n",
    "\n",
    "# Show the Figure\n",
    "plt.show()\n"
   ]
  },
  {
   "cell_type": "markdown",
   "metadata": {},
   "source": [
    "### Latitude vs. Wind Speed Plot"
   ]
  },
  {
   "cell_type": "code",
   "execution_count": 15,
   "metadata": {},
   "outputs": [
    {
     "data": {
      "image/png": "[encoded data removed]",
      "text/plain": [
       "<Figure size 648x432 with 1 Axes>"
      ]
     },
     "metadata": {},
     "output_type": "display_data"
    }
   ],
   "source": [
    "# Set graph\n",
    "set_graph(df_cities[\"Wind Speed\"].tolist(),# y_axis\n",
    "          [-5, 40],                        # ylim   \n",
    "          \"City Latitude vs. Wind Speed\",  # Title\n",
    "          \"Wind Speed (mph)\",              # yLabel\n",
    "          \"Latitude_vs_WindSpeed.png\")     # image_file_name\n",
    "\n",
    "# Show the Figure\n",
    "plt.show()"
   ]
  },
  {
   "cell_type": "code",
   "execution_count": 16,
   "metadata": {},
   "outputs": [],
   "source": [
    "# Save Cities Data.\n",
    "df_cities.to_csv(cities_file, encoding=\"utf-8\", index=False)"
   ]
  }
 ],
 "metadata": {
  "kernelspec": {
   "display_name": "Python 3",
   "language": "python",
   "name": "python3"
  },
  "language_info": {
   "codemirror_mode": {
    "name": "ipython",
    "version": 3
   },
   "file_extension": ".py",
   "mimetype": "text/x-python",
   "name": "python",
   "nbconvert_exporter": "python",
   "pygments_lexer": "ipython3",
   "version": "3.6.8"
  }
 },
 "nbformat": 4,
 "nbformat_minor": 2
}
